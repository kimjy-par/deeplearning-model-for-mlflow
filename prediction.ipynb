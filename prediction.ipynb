{
 "cells": [
  {
   "cell_type": "code",
   "execution_count": null,
   "id": "87060264",
   "metadata": {},
   "outputs": [],
   "source": [
    "import mlflow\n",
    "import torch\n",
    "import torch.nn as nn\n",
    "import torchvision\n",
    "\n",
    "import torchvision.transforms as transforms\n",
    "\n",
    "import numpy as np\n",
    "import matplotlib.pyplot as plt\n",
    "from PIL import Image"
   ]
  },
  {
   "cell_type": "code",
   "execution_count": null,
   "id": "1d30d2ae",
   "metadata": {},
   "outputs": [],
   "source": [
    "batch_size=4\n",
    "transform = transforms.Compose([transforms.ToTensor(), transforms.Normalize((0.5,0.5,0.5), (0.5,0.5,0.5))])\n",
    "invTrans = transforms.Compose([ transforms.Normalize(mean = [ 0., 0., 0. ], std = [ 1/0.229, 1/0.224, 1/0.225 ]),\n",
    "                                transforms.Normalize(mean = [ -0.485, -0.456, -0.406 ],std = [ 1., 1., 1. ]), \n",
    "                                transforms.ToPILImage() ])\n",
    "validation_set = torchvision.datasets.CIFAR10(root='./data', train=False, download=True, transform=transform)\n",
    "\n",
    "classes = ('plane', 'car', 'bird', 'cat', 'deer', 'dog', 'frog', 'horse', 'ship', 'truck')"
   ]
  },
  {
   "cell_type": "code",
   "execution_count": null,
   "id": "cf32afda",
   "metadata": {},
   "outputs": [],
   "source": [
    "mlflow.set_tracking_uri(mlflow_uri)"
   ]
  },
  {
   "cell_type": "code",
   "execution_count": null,
   "id": "e9ecf6ba",
   "metadata": {},
   "outputs": [],
   "source": [
    "model_uri = \"runs:/2cf6b5fd6f1a4d3c97d307fbceeefab5/cifar10-classifier\"\n",
    "loaded_model = mlflow.pytorch.load_model(model_uri)"
   ]
  },
  {
   "cell_type": "code",
   "execution_count": null,
   "id": "316bed8a",
   "metadata": {},
   "outputs": [],
   "source": [
    "test_data, label = validation_set[5]\n",
    "invTrans(test_data)\n",
    "print(classes[label])\n",
    "plt.imshow(invTrans(test_data))"
   ]
  },
  {
   "cell_type": "code",
   "execution_count": null,
   "id": "34b5ddd2",
   "metadata": {},
   "outputs": [],
   "source": [
    "loaded_model.eval()\n",
    "predict=loaded_model(test_data.reshape(-1,3,32,32))\n",
    "predicted_index = torch.argmax(predict)\n",
    "predicted_index, classes[predicted_index]"
   ]
  }
 ],
 "metadata": {
  "kernelspec": {
   "display_name": "Python 3 (ipykernel)",
   "language": "python",
   "name": "python3"
  },
  "language_info": {
   "codemirror_mode": {
    "name": "ipython",
    "version": 3
   },
   "file_extension": ".py",
   "mimetype": "text/x-python",
   "name": "python",
   "nbconvert_exporter": "python",
   "pygments_lexer": "ipython3",
   "version": "3.8.13"
  }
 },
 "nbformat": 4,
 "nbformat_minor": 5
}
