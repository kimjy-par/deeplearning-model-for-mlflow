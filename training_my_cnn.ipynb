{
 "cells": [
  {
   "cell_type": "code",
   "execution_count": 1,
   "id": "5c5c511e",
   "metadata": {},
   "outputs": [],
   "source": [
    "import torch\n",
    "\n",
    "import mlflow\n",
    "\n",
    "import torch.nn as nn\n",
    "import torchvision\n",
    "import torchvision.transforms as transforms\n",
    "\n",
    "import numpy as np\n",
    "import matplotlib.pyplot as plt\n",
    "from PIL import Image\n",
    "\n",
    "from my_cnn import MyCNNModel"
   ]
  },
  {
   "cell_type": "code",
   "execution_count": 2,
   "id": "51dfebfd",
   "metadata": {},
   "outputs": [
    {
     "data": {
      "text/plain": [
       "<Experiment: artifact_location='s3://mlflow-aidkr-test-bucket/1', experiment_id='1', lifecycle_stage='active', name='cifar10-classification', tags={}>"
      ]
     },
     "execution_count": 2,
     "metadata": {},
     "output_type": "execute_result"
    }
   ],
   "source": [
    "mlflow.set_tracking_uri(mlflow_uri)\n",
    "mlflow.set_experiment('cifar10-classification')"
   ]
  },
  {
   "cell_type": "code",
   "execution_count": 3,
   "id": "aeee6b9a",
   "metadata": {},
   "outputs": [
    {
     "name": "stdout",
     "output_type": "stream",
     "text": [
      "Files already downloaded and verified\n",
      "Files already downloaded and verified\n"
     ]
    }
   ],
   "source": [
    "batch_size=4\n",
    "transform = transforms.Compose([transforms.ToTensor(), transforms.Normalize((0.5,0.5,0.5), (0.5,0.5,0.5))])\n",
    "train_set = torchvision.datasets.CIFAR10(root='./data', train=True, download=True, transform=transform)\n",
    "train_loader = torch.utils.data.DataLoader(train_set, batch_size=batch_size, shuffle=True, num_workers=2)\n",
    "\n",
    "validation_set = torchvision.datasets.CIFAR10(root='./data', train=False, download=True, transform=transform)\n",
    "validation_loader = torch.utils.data.DataLoader(validation_set, batch_size=batch_size, shuffle=False, num_workers=2)\n",
    "\n",
    "classes = ('plane', 'car', 'bird', 'cat', 'deer', 'dog', 'frog', 'horse', 'ship', 'truck')"
   ]
  },
  {
   "cell_type": "code",
   "execution_count": 4,
   "id": "608b84f3",
   "metadata": {
    "scrolled": true
   },
   "outputs": [
    {
     "data": {
      "text/plain": [
       "MyCNNModel(\n",
       "  (conv1): Conv2d(3, 4, kernel_size=(5, 5), stride=(1, 1))\n",
       "  (pool): MaxPool2d(kernel_size=2, stride=2, padding=0, dilation=1, ceil_mode=False)\n",
       "  (fc1): Linear(in_features=784, out_features=120, bias=True)\n",
       "  (fc2): Linear(in_features=120, out_features=84, bias=True)\n",
       "  (fc3): Linear(in_features=84, out_features=10, bias=True)\n",
       ")"
      ]
     },
     "execution_count": 4,
     "metadata": {},
     "output_type": "execute_result"
    }
   ],
   "source": [
    "my_cnn_model = MyCNNModel()\n",
    "device = torch.device(\"cuda:0\" if torch.cuda.is_available() else \"cpu\")\n",
    "my_cnn_model.to(device)"
   ]
  },
  {
   "cell_type": "code",
   "execution_count": 5,
   "id": "0aaea5e9",
   "metadata": {},
   "outputs": [],
   "source": [
    "n_epochs = 3\n",
    "lr = 0.001\n",
    "criterion=nn.CrossEntropyLoss()\n",
    "optimizer = torch.optim.Adam(my_cnn_model.parameters(), lr=lr)"
   ]
  },
  {
   "cell_type": "code",
   "execution_count": 6,
   "id": "1bee66dd",
   "metadata": {},
   "outputs": [],
   "source": [
    "mlflow.log_params({\n",
    "    'n_epochs':n_epochs,\n",
    "    \"learning_rate\":lr,\n",
    "    \"training_set\": len(train_loader),\n",
    "    \"validation_set\": len(validation_loader)\n",
    "})"
   ]
  },
  {
   "cell_type": "code",
   "execution_count": 7,
   "id": "591a5cd3",
   "metadata": {
    "scrolled": true
   },
   "outputs": [
    {
     "name": "stdout",
     "output_type": "stream",
     "text": [
      "Epoch:1, loss:1.623956191893816, accuracy:41.64\n",
      "Epoch:2, loss:1.3944013343197108, accuracy:50.36000000000001\n",
      "Epoch:3, loss:1.298761571483612, accuracy:53.982\n"
     ]
    }
   ],
   "source": [
    "loss_p = np.array([])\n",
    "accuracy_p = np.array([])\n",
    "for epoch in range(n_epochs):\n",
    "    \n",
    "    #training\n",
    "    total_image = 0\n",
    "    correct_image = 0\n",
    "    running_loss = 0\n",
    "    for i, data in enumerate(train_loader):\n",
    "        image, label = data\n",
    "        optimizer.zero_grad()\n",
    "        \n",
    "        output = my_cnn_model(image)\n",
    "        __, predicts = torch.max(output, 1)\n",
    "        loss = criterion(output, label)\n",
    "        loss.backward()\n",
    "        optimizer.step()\n",
    "        \n",
    "        total_image += label.size(0)\n",
    "        correct_image += (predicts == label).sum().item()\n",
    "        running_loss += loss.item()\n",
    "        if i%100==0:\n",
    "            print('batch:{}/{}, accuracy:{}'.format(i, len(train_loader), correct_image/total_image*100), end='\\r')\n",
    "    print('Epoch:{}, loss:{}, accuracy:{}'.format(\n",
    "        epoch+1, running_loss/len(train_loader), correct_image/total_image*100\n",
    "    ))\n",
    "    loss_p=np.append(loss_p, running_loss/len(train_loader))\n",
    "    accuracy_p=np.append(accuracy_p, correct_image/total_image*100)\n",
    "    mlflow.log_metric(\"train_loss\", running_loss/len(train_loader))\n",
    "    mlflow.log_metric(\"train_accuracy\", correct_image/total_image*100)\n",
    "    \n",
    "    #validataion\n",
    "    validation_loss = 0\n",
    "    validation_total_image = 0\n",
    "    validation_correct_image = 0\n",
    "    for i, data in enumerate(validation_loader):\n",
    "        validation_image, validation_label = data\n",
    "        with torch.no_grad():\n",
    "            output = my_cnn_model(image)\n",
    "            __, predict = torch.max(output, 1)\n",
    "            loss = criterion(output, validation_label)\n",
    "            \n",
    "            validation_total_image += validation_label.size(0)\n",
    "            validation_correct_image += (predict == validation_label).sum().item()\n",
    "            validation_loss += loss\n",
    "            \n",
    "    mlflow.log_metric(\"validation_loss\", validation_loss/len(validation_loader))\n",
    "    mlflow.log_metric(\"validation_accuracy\", validation_correct_image/validation_total_image*100)"
   ]
  },
  {
   "cell_type": "code",
   "execution_count": 9,
   "id": "0031188a",
   "metadata": {
    "scrolled": false
   },
   "outputs": [
    {
     "name": "stderr",
     "output_type": "stream",
     "text": [
      "Registered model 'cifar10-classifier' already exists. Creating a new version of this model...\n",
      "2022/07/11 17:11:49 INFO mlflow.tracking._model_registry.client: Waiting up to 300 seconds for model version to finish creation.                     Model name: cifar10-classifier, version 2\n",
      "Created version '2' of model 'cifar10-classifier'.\n"
     ]
    },
    {
     "data": {
      "text/plain": [
       "ModelInfo(artifact_path='cifar10-classifier', flavors={'pytorch': {'model_data': 'data', 'pytorch_version': '1.10.0', 'code': None}, 'python_function': {'pickle_module_name': 'mlflow.pytorch.pickle_module', 'loader_module': 'mlflow.pytorch', 'python_version': '3.8.13', 'data': 'data', 'env': 'conda.yaml'}}, model_uri='runs:/2cf6b5fd6f1a4d3c97d307fbceeefab5/cifar10-classifier', model_uuid='5ec0245e37bb48e7853052ea9e831e1c', run_id='2cf6b5fd6f1a4d3c97d307fbceeefab5', saved_input_example_info=None, signature_dict=None, utc_time_created='2022-07-11 08:11:41.658560', mlflow_version='1.27.0')"
      ]
     },
     "execution_count": 9,
     "metadata": {},
     "output_type": "execute_result"
    }
   ],
   "source": [
    "mlflow.pytorch.log_model(my_cnn_model, artifact_path='cifar10-classifier', registered_model_name=\"cifar10-classifier\")"
   ]
  },
  {
   "cell_type": "code",
   "execution_count": null,
   "id": "86a3ee6a",
   "metadata": {
    "scrolled": false
   },
   "outputs": [],
   "source": []
  },
  {
   "cell_type": "code",
   "execution_count": null,
   "id": "7a765b3c",
   "metadata": {},
   "outputs": [],
   "source": [
    "mlflow.end_run()"
   ]
  },
  {
   "cell_type": "code",
   "execution_count": null,
   "id": "86e4180b",
   "metadata": {},
   "outputs": [],
   "source": []
  }
 ],
 "metadata": {
  "kernelspec": {
   "display_name": "Python 3 (ipykernel)",
   "language": "python",
   "name": "python3"
  },
  "language_info": {
   "codemirror_mode": {
    "name": "ipython",
    "version": 3
   },
   "file_extension": ".py",
   "mimetype": "text/x-python",
   "name": "python",
   "nbconvert_exporter": "python",
   "pygments_lexer": "ipython3",
   "version": "3.8.13"
  }
 },
 "nbformat": 4,
 "nbformat_minor": 5
}
