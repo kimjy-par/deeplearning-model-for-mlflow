{
 "cells": [
  {
   "cell_type": "code",
   "execution_count": null,
   "id": "eb1dbedd",
   "metadata": {},
   "outputs": [],
   "source": [
    "import torch\n",
    "\n",
    "import mlflow\n",
    "\n",
    "import torch.nn as nn\n",
    "import torchvision\n",
    "import torchvision.transforms as transforms\n",
    "\n",
    "import numpy as np\n",
    "import matplotlib.pyplot as plt\n",
    "from PIL import Image\n",
    "\n",
    "from baseline import BaselineModel"
   ]
  },
  {
   "cell_type": "code",
   "execution_count": null,
   "id": "d2b80ac1",
   "metadata": {},
   "outputs": [],
   "source": [
    "mlflow.set_tracking_uri(mlflow_uri)\n",
    "mlflow.set_experiment('cifar10-classification')"
   ]
  },
  {
   "cell_type": "code",
   "execution_count": null,
   "id": "e4f320d7",
   "metadata": {},
   "outputs": [],
   "source": [
    "batch_size=4\n",
    "transform = transforms.Compose([transforms.ToTensor(), transforms.Normalize((0.5,0.5,0.5), (0.5,0.5,0.5))])\n",
    "train_set = torchvision.datasets.CIFAR10(root='./data', train=True, download=True, transform=transform)\n",
    "train_loader = torch.utils.data.DataLoader(train_set, batch_size=batch_size, shuffle=True, num_workers=2)\n",
    "\n",
    "validation_set = torchvision.datasets.CIFAR10(root='./data', train=False, download=True, transform=transform)\n",
    "validation_loader = torch.utils.data.DataLoader(validation_set, batch_size=batch_size, shuffle=False, num_workers=2)\n",
    "\n",
    "classes = ('plane', 'car', 'bird', 'cat', 'deer', 'dog', 'frog', 'horse', 'ship', 'truck')"
   ]
  },
  {
   "cell_type": "code",
   "execution_count": null,
   "id": "428629cd",
   "metadata": {
    "scrolled": true
   },
   "outputs": [],
   "source": [
    "baseline_model = BaselineModel()\n",
    "device = torch.device(\"cuda:0\" if torch.cuda.is_available() else \"cpu\")\n",
    "baseline_model.to(device)"
   ]
  },
  {
   "cell_type": "code",
   "execution_count": null,
   "id": "682ebcb6",
   "metadata": {},
   "outputs": [],
   "source": [
    "n_epochs = 3\n",
    "lr = 0.001\n",
    "criterion=nn.CrossEntropyLoss()\n",
    "optimizer = torch.optim.Adam(baseline_model.parameters(), lr=lr)"
   ]
  },
  {
   "cell_type": "code",
   "execution_count": null,
   "id": "eb3f43bf",
   "metadata": {},
   "outputs": [],
   "source": [
    "mlflow.log_params({\n",
    "    'n_epochs':n_epochs,\n",
    "    \"learning_rate\":lr,\n",
    "    \"training_set\": len(train_loader),\n",
    "    \"validation_set\": len(validation_loader)\n",
    "})"
   ]
  },
  {
   "cell_type": "code",
   "execution_count": null,
   "id": "3bece8d0",
   "metadata": {
    "scrolled": true
   },
   "outputs": [],
   "source": [
    "loss_p = np.array([])\n",
    "accuracy_p = np.array([])\n",
    "for epoch in range(n_epochs):\n",
    "    \n",
    "    #training\n",
    "    baseline_model.train()\n",
    "    total_image = 0\n",
    "    correct_image = 0\n",
    "    running_loss = 0\n",
    "    for i, data in enumerate(train_loader):\n",
    "        image, label = data\n",
    "        optimizer.zero_grad()\n",
    "        \n",
    "        output = baseline_model(image)\n",
    "        __, predicts = torch.max(output, 1)\n",
    "        loss = criterion(output, label)\n",
    "        loss.backward()\n",
    "        optimizer.step()\n",
    "        \n",
    "        total_image += label.size(0)\n",
    "        correct_image += (predicts == label).sum().item()\n",
    "        running_loss += loss.item()\n",
    "        if i%100==0:\n",
    "            print('batch:{}/{}, accuracy:{}'.format(i, len(train_loader), correct_image/total_image*100), end='\\r')\n",
    "    print('Epoch:{}, loss:{}, accuracy:{}'.format(\n",
    "        epoch+1, running_loss/len(train_loader), correct_image/total_image*100\n",
    "    ))\n",
    "    loss_p=np.append(loss_p, running_loss/len(train_loader))\n",
    "    accuracy_p=np.append(accuracy_p, correct_image/total_image*100)\n",
    "    mlflow.log_metric(\"train_loss\", running_loss/len(train_loader))\n",
    "    mlflow.log_metric(\"train_accuracy\", correct_image/total_image*100)\n",
    "    \n",
    "    #validataion\n",
    "    baseline_model.eval()\n",
    "    validation_loss = 0\n",
    "    validation_total_image = 0\n",
    "    validation_correct_image = 0\n",
    "    for i, data in enumerate(validation_loader):\n",
    "        validation_image, validation_label = data\n",
    "        with torch.no_grad():\n",
    "            output = baseline_model(image)\n",
    "            __, predict = torch.max(output, 1)\n",
    "            loss = criterion(output, validation_label)\n",
    "            \n",
    "            validation_total_image += validation_label.size(0)\n",
    "            validation_correct_image += (predict == validation_label).sum().item()\n",
    "            validation_loss += loss\n",
    "            \n",
    "    mlflow.log_metric(\"validation_loss\", validation_loss/len(validation_loader))\n",
    "    mlflow.log_metric(\"validation_accuracy\", validation_correct_image/validation_total_image*100)"
   ]
  },
  {
   "cell_type": "code",
   "execution_count": null,
   "id": "9a42456f",
   "metadata": {
    "scrolled": true
   },
   "outputs": [],
   "source": [
    "mlflow.pytorch.log_model(\n",
    "    baseline_model, \n",
    "    artifact_path='cifar10-classifier', \n",
    "    registered_model_name=\"cifar10-classifier\"\n",
    ")"
   ]
  },
  {
   "cell_type": "code",
   "execution_count": null,
   "id": "c09e3a80",
   "metadata": {},
   "outputs": [],
   "source": [
    "mlflow.end_run()"
   ]
  }
 ],
 "metadata": {
  "kernelspec": {
   "display_name": "Python 3 (ipykernel)",
   "language": "python",
   "name": "python3"
  },
  "language_info": {
   "codemirror_mode": {
    "name": "ipython",
    "version": 3
   },
   "file_extension": ".py",
   "mimetype": "text/x-python",
   "name": "python",
   "nbconvert_exporter": "python",
   "pygments_lexer": "ipython3",
   "version": "3.8.13"
  }
 },
 "nbformat": 4,
 "nbformat_minor": 5
}
