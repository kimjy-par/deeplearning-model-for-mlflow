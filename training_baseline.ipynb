{
 "cells": [
  {
   "cell_type": "code",
   "execution_count": 1,
   "id": "eb1dbedd",
   "metadata": {},
   "outputs": [],
   "source": [
    "import torch\n",
    "\n",
    "import mlflow\n",
    "\n",
    "import torch.nn as nn\n",
    "import torchvision\n",
    "import torchvision.transforms as transforms\n",
    "\n",
    "import numpy as np\n",
    "import matplotlib.pyplot as plt\n",
    "from PIL import Image\n",
    "\n",
    "from baseline import BaselineModel"
   ]
  },
  {
   "cell_type": "code",
   "execution_count": 2,
   "id": "d2b80ac1",
   "metadata": {},
   "outputs": [
    {
     "data": {
      "text/plain": [
       "<Experiment: artifact_location='s3://mlflow-aidkr-test-bucket/1', experiment_id='1', lifecycle_stage='active', name='cifar10-classification', tags={}>"
      ]
     },
     "execution_count": 2,
     "metadata": {},
     "output_type": "execute_result"
    }
   ],
   "source": [
    "mlflow.set_tracking_uri(mlflow_uri)\n",
    "mlflow.set_experiment('cifar10-classification')"
   ]
  },
  {
   "cell_type": "code",
   "execution_count": 3,
   "id": "e4f320d7",
   "metadata": {},
   "outputs": [
    {
     "name": "stdout",
     "output_type": "stream",
     "text": [
      "Files already downloaded and verified\n",
      "Files already downloaded and verified\n"
     ]
    }
   ],
   "source": [
    "batch_size=4\n",
    "transform = transforms.Compose([transforms.ToTensor(), transforms.Normalize((0.5,0.5,0.5), (0.5,0.5,0.5))])\n",
    "train_set = torchvision.datasets.CIFAR10(root='./data', train=True, download=True, transform=transform)\n",
    "train_loader = torch.utils.data.DataLoader(train_set, batch_size=batch_size, shuffle=True, num_workers=2)\n",
    "\n",
    "validation_set = torchvision.datasets.CIFAR10(root='./data', train=False, download=True, transform=transform)\n",
    "validation_loader = torch.utils.data.DataLoader(validation_set, batch_size=batch_size, shuffle=False, num_workers=2)\n",
    "\n",
    "classes = ('plane', 'car', 'bird', 'cat', 'deer', 'dog', 'frog', 'horse', 'ship', 'truck')"
   ]
  },
  {
   "cell_type": "code",
   "execution_count": 4,
   "id": "428629cd",
   "metadata": {
    "scrolled": true
   },
   "outputs": [
    {
     "data": {
      "text/plain": [
       "BaselineModel(\n",
       "  (conv1): Conv2d(3, 6, kernel_size=(5, 5), stride=(1, 1))\n",
       "  (pool): MaxPool2d(kernel_size=2, stride=2, padding=0, dilation=1, ceil_mode=False)\n",
       "  (conv2): Conv2d(6, 16, kernel_size=(5, 5), stride=(1, 1))\n",
       "  (fc1): Linear(in_features=400, out_features=120, bias=True)\n",
       "  (fc2): Linear(in_features=120, out_features=84, bias=True)\n",
       "  (fc3): Linear(in_features=84, out_features=10, bias=True)\n",
       ")"
      ]
     },
     "execution_count": 4,
     "metadata": {},
     "output_type": "execute_result"
    }
   ],
   "source": [
    "baseline_model = BaselineModel()\n",
    "device = torch.device(\"cuda:0\" if torch.cuda.is_available() else \"cpu\")\n",
    "baseline_model.to(device)"
   ]
  },
  {
   "cell_type": "code",
   "execution_count": 5,
   "id": "682ebcb6",
   "metadata": {},
   "outputs": [],
   "source": [
    "n_epochs = 3\n",
    "lr = 0.001\n",
    "criterion=nn.CrossEntropyLoss()\n",
    "optimizer = torch.optim.Adam(baseline_model.parameters(), lr=lr)"
   ]
  },
  {
   "cell_type": "code",
   "execution_count": 6,
   "id": "eb3f43bf",
   "metadata": {},
   "outputs": [],
   "source": [
    "mlflow.log_params({\n",
    "    'n_epochs':n_epochs,\n",
    "    \"learning_rate\":lr,\n",
    "    \"training_set\": len(train_loader),\n",
    "    \"validation_set\": len(validation_loader)\n",
    "})"
   ]
  },
  {
   "cell_type": "code",
   "execution_count": 7,
   "id": "3bece8d0",
   "metadata": {
    "scrolled": true
   },
   "outputs": [
    {
     "name": "stdout",
     "output_type": "stream",
     "text": [
      "Epoch:1, loss:1.5476470832657814, accuracy:43.406\n",
      "Epoch:2, loss:1.2801852732798458, accuracy:54.454\n",
      "Epoch:3, loss:1.1755890388795733, accuracy:58.592\n"
     ]
    }
   ],
   "source": [
    "loss_p = np.array([])\n",
    "accuracy_p = np.array([])\n",
    "for epoch in range(n_epochs):\n",
    "    \n",
    "    #training\n",
    "    baseline_model.train()\n",
    "    total_image = 0\n",
    "    correct_image = 0\n",
    "    running_loss = 0\n",
    "    for i, data in enumerate(train_loader):\n",
    "        image, label = data\n",
    "        optimizer.zero_grad()\n",
    "        \n",
    "        output = baseline_model(image)\n",
    "        __, predicts = torch.max(output, 1)\n",
    "        loss = criterion(output, label)\n",
    "        loss.backward()\n",
    "        optimizer.step()\n",
    "        \n",
    "        total_image += label.size(0)\n",
    "        correct_image += (predicts == label).sum().item()\n",
    "        running_loss += loss.item()\n",
    "        if i%100==0:\n",
    "            print('batch:{}/{}, accuracy:{}'.format(i, len(train_loader), correct_image/total_image*100), end='\\r')\n",
    "    print('Epoch:{}, loss:{}, accuracy:{}'.format(\n",
    "        epoch+1, running_loss/len(train_loader), correct_image/total_image*100\n",
    "    ))\n",
    "    loss_p=np.append(loss_p, running_loss/len(train_loader))\n",
    "    accuracy_p=np.append(accuracy_p, correct_image/total_image*100)\n",
    "    mlflow.log_metric(\"train_loss\", running_loss/len(train_loader))\n",
    "    mlflow.log_metric(\"train_accuracy\", correct_image/total_image*100)\n",
    "    \n",
    "    #validataion\n",
    "    baseline_model.eval()\n",
    "    validation_loss = 0\n",
    "    validation_total_image = 0\n",
    "    validation_correct_image = 0\n",
    "    for i, data in enumerate(validation_loader):\n",
    "        validation_image, validation_label = data\n",
    "        with torch.no_grad():\n",
    "            output = baseline_model(image)\n",
    "            __, predict = torch.max(output, 1)\n",
    "            loss = criterion(output, validation_label)\n",
    "            \n",
    "            validation_total_image += validation_label.size(0)\n",
    "            validation_correct_image += (predict == validation_label).sum().item()\n",
    "            validation_loss += loss\n",
    "            \n",
    "    mlflow.log_metric(\"validation_loss\", validation_loss/len(validation_loader))\n",
    "    mlflow.log_metric(\"validation_accuracy\", validation_correct_image/validation_total_image*100)"
   ]
  },
  {
   "cell_type": "code",
   "execution_count": 14,
   "id": "9a42456f",
   "metadata": {
    "scrolled": true
   },
   "outputs": [
    {
     "name": "stderr",
     "output_type": "stream",
     "text": [
      "Successfully registered model 'cifar10-classifier'.\n",
      "2022/07/11 17:06:11 INFO mlflow.tracking._model_registry.client: Waiting up to 300 seconds for model version to finish creation.                     Model name: cifar10-classifier, version 1\n",
      "Created version '1' of model 'cifar10-classifier'.\n"
     ]
    },
    {
     "data": {
      "text/plain": [
       "ModelInfo(artifact_path='cifar10-classifier', flavors={'pytorch': {'model_data': 'data', 'pytorch_version': '1.10.0', 'code': None}, 'python_function': {'pickle_module_name': 'mlflow.pytorch.pickle_module', 'loader_module': 'mlflow.pytorch', 'python_version': '3.8.13', 'data': 'data', 'env': 'conda.yaml'}}, model_uri='runs:/62d41a08277a4e55bdd1db44c13123a3/cifar10-classifier', model_uuid='8a49a4279c664b4fba4ecbead4fabb12', run_id='62d41a08277a4e55bdd1db44c13123a3', saved_input_example_info=None, signature_dict=None, utc_time_created='2022-07-11 08:06:04.107959', mlflow_version='1.27.0')"
      ]
     },
     "execution_count": 14,
     "metadata": {},
     "output_type": "execute_result"
    }
   ],
   "source": [
    "mlflow.pytorch.log_model(\n",
    "    baseline_model, \n",
    "    artifact_path='cifar10-classifier', \n",
    "    registered_model_name=\"cifar10-classifier\"\n",
    ")"
   ]
  },
  {
   "cell_type": "code",
   "execution_count": 21,
   "id": "c09e3a80",
   "metadata": {},
   "outputs": [],
   "source": [
    "mlflow.end_run()"
   ]
  },
  {
   "cell_type": "code",
   "execution_count": null,
   "id": "8ea1b5bf",
   "metadata": {},
   "outputs": [],
   "source": []
  },
  {
   "cell_type": "code",
   "execution_count": null,
   "id": "32b66fd0",
   "metadata": {},
   "outputs": [],
   "source": []
  },
  {
   "cell_type": "code",
   "execution_count": null,
   "id": "f617a7d3",
   "metadata": {},
   "outputs": [],
   "source": []
  },
  {
   "cell_type": "code",
   "execution_count": 3,
   "id": "a86e7f0d",
   "metadata": {},
   "outputs": [
    {
     "data": {
      "text/plain": [
       "17.4"
      ]
     },
     "execution_count": 3,
     "metadata": {},
     "output_type": "execute_result"
    }
   ],
   "source": []
  },
  {
   "cell_type": "code",
   "execution_count": null,
   "id": "34cead6f",
   "metadata": {},
   "outputs": [],
   "source": []
  }
 ],
 "metadata": {
  "kernelspec": {
   "display_name": "Python 3 (ipykernel)",
   "language": "python",
   "name": "python3"
  },
  "language_info": {
   "codemirror_mode": {
    "name": "ipython",
    "version": 3
   },
   "file_extension": ".py",
   "mimetype": "text/x-python",
   "name": "python",
   "nbconvert_exporter": "python",
   "pygments_lexer": "ipython3",
   "version": "3.8.13"
  }
 },
 "nbformat": 4,
 "nbformat_minor": 5
}
